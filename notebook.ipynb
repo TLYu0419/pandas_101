{
 "cells": [
  {
   "cell_type": "markdown",
   "metadata": {},
   "source": [
    "## There are alternative solution and hits: \n",
    "### more readable\n",
    "> 10, 18, 23, 24, 25\n",
    "### more effient (vectorlized)\n",
    "> 16, 19, 24\n",
    "### when to use it?\n",
    "> 13, 26\n",
    "### hints\n",
    "> 12, 18, 22, 24"
   ]
  },
  {
   "cell_type": "code",
   "execution_count": 1,
   "metadata": {
    "ExecuteTime": {
     "end_time": "2019-08-02T01:34:02.245903Z",
     "start_time": "2019-08-02T01:34:01.066646Z"
    }
   },
   "outputs": [],
   "source": [
    "import pandas as pd"
   ]
  },
  {
   "cell_type": "code",
   "execution_count": 2,
   "metadata": {
    "ExecuteTime": {
     "end_time": "2019-08-02T01:34:03.194035Z",
     "start_time": "2019-08-02T01:34:02.250225Z"
    }
   },
   "outputs": [
    {
     "name": "stdout",
     "output_type": "stream",
     "text": [
      "0.24.2\n",
      "{'system': {'commit': None, 'python': '3.6.5.final.0', 'python-bits': 64, 'OS': 'Darwin', 'OS-release': '16.7.0', 'machine': 'x86_64', 'processor': 'i386', 'byteorder': 'little', 'LC_ALL': 'None', 'LANG': 'zh_TW.UTF-8', 'LOCALE': 'zh_TW.UTF-8'}, 'dependencies': {'pandas': '0.24.2', 'pytest': None, 'pip': '9.0.3', 'setuptools': '39.0.1', 'Cython': None, 'numpy': '1.16.4', 'scipy': '1.3.0', 'pyarrow': None, 'xarray': None, 'IPython': '7.5.0', 'sphinx': None, 'patsy': None, 'dateutil': '2.8.0', 'pytz': '2019.1', 'blosc': None, 'bottleneck': None, 'tables': None, 'numexpr': None, 'feather': None, 'matplotlib': '3.1.1', 'openpyxl': None, 'xlrd': None, 'xlwt': None, 'xlsxwriter': None, 'lxml.etree': None, 'bs4': None, 'html5lib': None, 'sqlalchemy': None, 'pymysql': None, 'psycopg2': None, 'jinja2': '2.10.1', 's3fs': None, 'fastparquet': None, 'pandas_gbq': None, 'pandas_datareader': None, 'gcsfs': None}}\n",
      "None\n"
     ]
    }
   ],
   "source": [
    "# 1. How to import pandas and check the version? \n",
    "print(pd.__version__)\n",
    "print(pd.show_versions(as_json=True))"
   ]
  },
  {
   "cell_type": "code",
   "execution_count": 3,
   "metadata": {
    "ExecuteTime": {
     "end_time": "2019-08-02T01:34:03.216966Z",
     "start_time": "2019-08-02T01:34:03.198844Z"
    }
   },
   "outputs": [],
   "source": [
    "# 2. How to create a series from a list, numpy array and dict?\n",
    "import numpy as np\n",
    "mylist = list('abcedfghijklmnopqrstuvwxyz')\n",
    "myarr = np.arange(26)\n",
    "mydict = dict(zip(mylist, myarr))\n",
    "\n",
    "ser1 = pd.Series(mylist)\n",
    "ser2 = pd.Series(myarr)\n",
    "ser3 = pd.Series(mydict)"
   ]
  },
  {
   "cell_type": "code",
   "execution_count": 4,
   "metadata": {
    "ExecuteTime": {
     "end_time": "2019-08-02T01:34:03.274491Z",
     "start_time": "2019-08-02T01:34:03.220654Z"
    }
   },
   "outputs": [
    {
     "data": {
      "text/html": [
       "<div>\n",
       "<style scoped>\n",
       "    .dataframe tbody tr th:only-of-type {\n",
       "        vertical-align: middle;\n",
       "    }\n",
       "\n",
       "    .dataframe tbody tr th {\n",
       "        vertical-align: top;\n",
       "    }\n",
       "\n",
       "    .dataframe thead th {\n",
       "        text-align: right;\n",
       "    }\n",
       "</style>\n",
       "<table border=\"1\" class=\"dataframe\">\n",
       "  <thead>\n",
       "    <tr style=\"text-align: right;\">\n",
       "      <th></th>\n",
       "      <th>index</th>\n",
       "      <th>0</th>\n",
       "    </tr>\n",
       "  </thead>\n",
       "  <tbody>\n",
       "    <tr>\n",
       "      <th>0</th>\n",
       "      <td>a</td>\n",
       "      <td>0</td>\n",
       "    </tr>\n",
       "    <tr>\n",
       "      <th>1</th>\n",
       "      <td>b</td>\n",
       "      <td>1</td>\n",
       "    </tr>\n",
       "    <tr>\n",
       "      <th>2</th>\n",
       "      <td>c</td>\n",
       "      <td>2</td>\n",
       "    </tr>\n",
       "    <tr>\n",
       "      <th>3</th>\n",
       "      <td>e</td>\n",
       "      <td>3</td>\n",
       "    </tr>\n",
       "    <tr>\n",
       "      <th>4</th>\n",
       "      <td>d</td>\n",
       "      <td>4</td>\n",
       "    </tr>\n",
       "  </tbody>\n",
       "</table>\n",
       "</div>"
      ],
      "text/plain": [
       "  index  0\n",
       "0     a  0\n",
       "1     b  1\n",
       "2     c  2\n",
       "3     e  3\n",
       "4     d  4"
      ]
     },
     "execution_count": 4,
     "metadata": {},
     "output_type": "execute_result"
    }
   ],
   "source": [
    "# 3. How to convert the index of a series into a column of a dataframe?\n",
    "# L1\n",
    "mylist = list('abcedfghijklmnopqrstuvwxyz')\n",
    "myarr = np.arange(26)\n",
    "mydict = dict(zip(mylist, myarr))\n",
    "ser = pd.Series(mydict)\n",
    "\n",
    "df = ser.to_frame().reset_index()\n",
    "df.head()"
   ]
  },
  {
   "cell_type": "code",
   "execution_count": 5,
   "metadata": {
    "ExecuteTime": {
     "end_time": "2019-08-02T01:34:03.297999Z",
     "start_time": "2019-08-02T01:34:03.277857Z"
    }
   },
   "outputs": [
    {
     "data": {
      "text/html": [
       "<div>\n",
       "<style scoped>\n",
       "    .dataframe tbody tr th:only-of-type {\n",
       "        vertical-align: middle;\n",
       "    }\n",
       "\n",
       "    .dataframe tbody tr th {\n",
       "        vertical-align: top;\n",
       "    }\n",
       "\n",
       "    .dataframe thead th {\n",
       "        text-align: right;\n",
       "    }\n",
       "</style>\n",
       "<table border=\"1\" class=\"dataframe\">\n",
       "  <thead>\n",
       "    <tr style=\"text-align: right;\">\n",
       "      <th></th>\n",
       "      <th>0</th>\n",
       "      <th>1</th>\n",
       "    </tr>\n",
       "  </thead>\n",
       "  <tbody>\n",
       "    <tr>\n",
       "      <th>0</th>\n",
       "      <td>a</td>\n",
       "      <td>0</td>\n",
       "    </tr>\n",
       "    <tr>\n",
       "      <th>1</th>\n",
       "      <td>b</td>\n",
       "      <td>1</td>\n",
       "    </tr>\n",
       "    <tr>\n",
       "      <th>2</th>\n",
       "      <td>c</td>\n",
       "      <td>2</td>\n",
       "    </tr>\n",
       "    <tr>\n",
       "      <th>3</th>\n",
       "      <td>e</td>\n",
       "      <td>3</td>\n",
       "    </tr>\n",
       "    <tr>\n",
       "      <th>4</th>\n",
       "      <td>d</td>\n",
       "      <td>4</td>\n",
       "    </tr>\n",
       "  </tbody>\n",
       "</table>\n",
       "</div>"
      ],
      "text/plain": [
       "   0  1\n",
       "0  a  0\n",
       "1  b  1\n",
       "2  c  2\n",
       "3  e  3\n",
       "4  d  4"
      ]
     },
     "execution_count": 5,
     "metadata": {},
     "output_type": "execute_result"
    }
   ],
   "source": [
    "# 4. How to combine many series to form a dataframe?\n",
    "# L1\n",
    "import numpy as np\n",
    "ser1 = pd.Series(list('abcedfghijklmnopqrstuvwxyz'))\n",
    "ser2 = pd.Series(np.arange(26))\n",
    "\n",
    "df = pd.concat([ser1, ser2], axis=1)\n",
    "df.head()"
   ]
  },
  {
   "cell_type": "code",
   "execution_count": 6,
   "metadata": {
    "ExecuteTime": {
     "end_time": "2019-08-02T01:34:03.308381Z",
     "start_time": "2019-08-02T01:34:03.301276Z"
    }
   },
   "outputs": [],
   "source": [
    "# 5. How to assign name to the series’ index?\n",
    "# L1\n",
    "ser = pd.Series(list('abcedfghijklmnopqrstuvwxyz'))\n",
    "\n",
    "ser.name = 'alphabets'"
   ]
  },
  {
   "cell_type": "code",
   "execution_count": 7,
   "metadata": {
    "ExecuteTime": {
     "end_time": "2019-08-02T01:34:03.329432Z",
     "start_time": "2019-08-02T01:34:03.315662Z"
    }
   },
   "outputs": [
    {
     "data": {
      "text/plain": [
       "0    1\n",
       "1    2\n",
       "2    3\n",
       "dtype: int64"
      ]
     },
     "execution_count": 7,
     "metadata": {},
     "output_type": "execute_result"
    }
   ],
   "source": [
    "# 6. How to get the items of series A not present in series B?\n",
    "# L2\n",
    "ser1 = pd.Series([1, 2, 3, 4, 5])\n",
    "ser2 = pd.Series([4, 5, 6, 7, 8])\n",
    "\n",
    "mask = ~ ser1.isin(ser2)\n",
    "ser1[mask]"
   ]
  },
  {
   "cell_type": "code",
   "execution_count": 8,
   "metadata": {
    "ExecuteTime": {
     "end_time": "2019-08-02T01:34:03.354050Z",
     "start_time": "2019-08-02T01:34:03.333687Z"
    }
   },
   "outputs": [
    {
     "data": {
      "text/plain": [
       "0    1\n",
       "1    2\n",
       "2    3\n",
       "5    6\n",
       "6    7\n",
       "7    8\n",
       "dtype: int64"
      ]
     },
     "execution_count": 8,
     "metadata": {},
     "output_type": "execute_result"
    }
   ],
   "source": [
    "# 7. How to get the items not common to both series A and series B?\n",
    "# L2\n",
    "ser1 = pd.Series([1, 2, 3, 4, 5])\n",
    "ser2 = pd.Series([4, 5, 6, 7, 8])\n",
    "\n",
    "union_ser = pd.Series(np.union1d(ser1, ser2))\n",
    "intersection_ser = pd.Series(np.intersect1d(ser1, ser2))\n",
    "xor_ser = union_ser[~ union_ser.isin(intersection_ser)]\n",
    "xor_ser"
   ]
  },
  {
   "cell_type": "code",
   "execution_count": 9,
   "metadata": {
    "ExecuteTime": {
     "end_time": "2019-08-02T01:34:03.376680Z",
     "start_time": "2019-08-02T01:34:03.357478Z"
    }
   },
   "outputs": [
    {
     "data": {
      "text/plain": [
       "0.00    -2.816515\n",
       "0.25     3.814005\n",
       "0.50     7.848669\n",
       "0.75    13.588815\n",
       "1.00    22.202684\n",
       "dtype: float64"
      ]
     },
     "execution_count": 9,
     "metadata": {},
     "output_type": "execute_result"
    }
   ],
   "source": [
    "# 8. How to get the minimum, 25th percentile, median, 75th, and max of a numeric series?\n",
    "# L2\n",
    "ser = pd.Series(np.random.normal(10, 5, 25))\n",
    "ser.quantile([.0, .25, .5, .75, 1])"
   ]
  },
  {
   "cell_type": "code",
   "execution_count": 10,
   "metadata": {
    "ExecuteTime": {
     "end_time": "2019-08-02T01:34:03.395375Z",
     "start_time": "2019-08-02T01:34:03.380140Z"
    }
   },
   "outputs": [
    {
     "data": {
      "text/plain": [
       "b    8\n",
       "a    5\n",
       "d    4\n",
       "e    4\n",
       "f    3\n",
       "c    3\n",
       "g    2\n",
       "h    1\n",
       "dtype: int64"
      ]
     },
     "execution_count": 10,
     "metadata": {},
     "output_type": "execute_result"
    }
   ],
   "source": [
    "# 9. How to get frequency counts of unique items of a series?\n",
    "#  L1\n",
    "ser = pd.Series(np.take(list('abcdefgh'), np.random.randint(8, size=30)))\n",
    "ser.value_counts()"
   ]
  },
  {
   "cell_type": "code",
   "execution_count": 11,
   "metadata": {
    "ExecuteTime": {
     "end_time": "2019-08-02T01:34:03.423700Z",
     "start_time": "2019-08-02T01:34:03.398904Z"
    }
   },
   "outputs": [
    {
     "data": {
      "text/plain": [
       "0         4\n",
       "1     Other\n",
       "2         4\n",
       "3         4\n",
       "4         4\n",
       "5     Other\n",
       "6         4\n",
       "7         3\n",
       "8     Other\n",
       "9         4\n",
       "10        3\n",
       "11    Other\n",
       "dtype: object"
      ]
     },
     "execution_count": 11,
     "metadata": {},
     "output_type": "execute_result"
    }
   ],
   "source": [
    "# 10. How to keep only top 2 most frequent values as it is and replace everything else as ‘Other’?\n",
    "# L2\n",
    "np.random.RandomState(100)\n",
    "ser = pd.Series(np.random.randint(1, 5, [12]))\n",
    "\n",
    "# ALTERNATIVE ANSWER\n",
    "# More Readable\n",
    "top_2_frequent = ser.value_counts().nlargest(2).index\n",
    "ser.where(ser.isin(top_2_frequent), other='Other')"
   ]
  },
  {
   "cell_type": "code",
   "execution_count": 12,
   "metadata": {
    "ExecuteTime": {
     "end_time": "2019-08-02T01:34:03.462718Z",
     "start_time": "2019-08-02T01:34:03.427074Z"
    }
   },
   "outputs": [
    {
     "data": {
      "text/plain": [
       "0      5th\n",
       "1      4th\n",
       "2      9th\n",
       "3      1st\n",
       "4      6th\n",
       "5      3rd\n",
       "6      6th\n",
       "7      2nd\n",
       "8      8th\n",
       "9      4th\n",
       "10     3rd\n",
       "11     1st\n",
       "12    10th\n",
       "13     7th\n",
       "14     2nd\n",
       "15     5th\n",
       "16    10th\n",
       "17     9th\n",
       "18     8th\n",
       "19     7th\n",
       "dtype: category\n",
       "Categories (10, object): [1st < 2nd < 3rd < 4th ... 7th < 8th < 9th < 10th]"
      ]
     },
     "execution_count": 12,
     "metadata": {},
     "output_type": "execute_result"
    }
   ],
   "source": [
    "#  11. How to bin a numeric series to 10 groups of equal size?\n",
    "#  L2\n",
    "ser = pd.Series(np.random.random(20))\n",
    "# Note ourput dtype is category\n",
    "pd.qcut(ser,\n",
    "        q = [0, .1, .2, .3, .4, .5, .6, .7, .8, .9, 1],\n",
    "        labels=['1st', '2nd','3rd','4th','5th',\n",
    "                 '6th', '7th', '8th','9th', '10th'])"
   ]
  },
  {
   "cell_type": "code",
   "execution_count": 13,
   "metadata": {
    "ExecuteTime": {
     "end_time": "2019-08-02T01:34:03.488879Z",
     "start_time": "2019-08-02T01:34:03.466755Z"
    }
   },
   "outputs": [
    {
     "data": {
      "text/html": [
       "<div>\n",
       "<style scoped>\n",
       "    .dataframe tbody tr th:only-of-type {\n",
       "        vertical-align: middle;\n",
       "    }\n",
       "\n",
       "    .dataframe tbody tr th {\n",
       "        vertical-align: top;\n",
       "    }\n",
       "\n",
       "    .dataframe thead th {\n",
       "        text-align: right;\n",
       "    }\n",
       "</style>\n",
       "<table border=\"1\" class=\"dataframe\">\n",
       "  <thead>\n",
       "    <tr style=\"text-align: right;\">\n",
       "      <th></th>\n",
       "      <th>0</th>\n",
       "      <th>1</th>\n",
       "      <th>2</th>\n",
       "      <th>3</th>\n",
       "      <th>4</th>\n",
       "    </tr>\n",
       "  </thead>\n",
       "  <tbody>\n",
       "    <tr>\n",
       "      <th>0</th>\n",
       "      <td>2</td>\n",
       "      <td>9</td>\n",
       "      <td>7</td>\n",
       "      <td>9</td>\n",
       "      <td>9</td>\n",
       "    </tr>\n",
       "    <tr>\n",
       "      <th>1</th>\n",
       "      <td>3</td>\n",
       "      <td>1</td>\n",
       "      <td>2</td>\n",
       "      <td>9</td>\n",
       "      <td>7</td>\n",
       "    </tr>\n",
       "    <tr>\n",
       "      <th>2</th>\n",
       "      <td>9</td>\n",
       "      <td>2</td>\n",
       "      <td>7</td>\n",
       "      <td>3</td>\n",
       "      <td>7</td>\n",
       "    </tr>\n",
       "    <tr>\n",
       "      <th>3</th>\n",
       "      <td>5</td>\n",
       "      <td>1</td>\n",
       "      <td>5</td>\n",
       "      <td>7</td>\n",
       "      <td>2</td>\n",
       "    </tr>\n",
       "    <tr>\n",
       "      <th>4</th>\n",
       "      <td>1</td>\n",
       "      <td>8</td>\n",
       "      <td>8</td>\n",
       "      <td>6</td>\n",
       "      <td>4</td>\n",
       "    </tr>\n",
       "    <tr>\n",
       "      <th>5</th>\n",
       "      <td>2</td>\n",
       "      <td>1</td>\n",
       "      <td>2</td>\n",
       "      <td>9</td>\n",
       "      <td>2</td>\n",
       "    </tr>\n",
       "    <tr>\n",
       "      <th>6</th>\n",
       "      <td>1</td>\n",
       "      <td>3</td>\n",
       "      <td>6</td>\n",
       "      <td>5</td>\n",
       "      <td>3</td>\n",
       "    </tr>\n",
       "  </tbody>\n",
       "</table>\n",
       "</div>"
      ],
      "text/plain": [
       "   0  1  2  3  4\n",
       "0  2  9  7  9  9\n",
       "1  3  1  2  9  7\n",
       "2  9  2  7  3  7\n",
       "3  5  1  5  7  2\n",
       "4  1  8  8  6  4\n",
       "5  2  1  2  9  2\n",
       "6  1  3  6  5  3"
      ]
     },
     "execution_count": 13,
     "metadata": {},
     "output_type": "execute_result"
    }
   ],
   "source": [
    "# 12. How to convert a numpy array to a dataframe of given shape? (L1)\n",
    "# L1\n",
    "ser = pd.Series(np.random.randint(1, 10, 35))\n",
    "\n",
    "# note : argument -1 will caculate the rest \n",
    "# in this case (7, -1) -->  (7 , 35 / 7)\n",
    "pd.DataFrame(ser.values.reshape(7,-1))"
   ]
  },
  {
   "cell_type": "code",
   "execution_count": 14,
   "metadata": {
    "ExecuteTime": {
     "end_time": "2019-08-02T01:34:03.506273Z",
     "start_time": "2019-08-02T01:34:03.492069Z"
    }
   },
   "outputs": [
    {
     "name": "stderr",
     "output_type": "stream",
     "text": [
      "/Users/longlong/.pyenv/versions/3.6.5/lib/python3.6/site-packages/numpy/core/fromnumeric.py:56: FutureWarning: Series.nonzero() is deprecated and will be removed in a future version.Use Series.to_numpy().nonzero() instead\n",
      "  return getattr(obj, method)(*args, **kwds)\n"
     ]
    },
    {
     "data": {
      "text/plain": [
       "array([[4],\n",
       "       [5]])"
      ]
     },
     "execution_count": 14,
     "metadata": {},
     "output_type": "execute_result"
    }
   ],
   "source": [
    "# 13. How to find the positions of numbers that are multiples of 3 from a series?\n",
    "# L2\n",
    "ser = pd.Series(np.random.randint(1, 10, 7))\n",
    "\n",
    "# note : np.where, pd.where return whole series\n",
    "#        np.argwhere return index\n",
    "#        use the indrx :  arr = np.argwhere(ser condition), ser.iloc(arr.reshape(-1))\n",
    "np.argwhere(ser % 3 == 0)"
   ]
  },
  {
   "cell_type": "code",
   "execution_count": 15,
   "metadata": {
    "ExecuteTime": {
     "end_time": "2019-08-02T01:34:03.519494Z",
     "start_time": "2019-08-02T01:34:03.509524Z"
    }
   },
   "outputs": [
    {
     "data": {
      "text/plain": [
       "0     a\n",
       "4     e\n",
       "8     i\n",
       "14    o\n",
       "20    u\n",
       "dtype: object"
      ]
     },
     "execution_count": 15,
     "metadata": {},
     "output_type": "execute_result"
    }
   ],
   "source": [
    "# 14. How to extract items at given positions from a series\n",
    "# L1\n",
    "ser = pd.Series(list('abcdefghijklmnopqrstuvwxyz'))\n",
    "pos = [0, 4, 8, 14, 20]\n",
    "\n",
    "ser.iloc[pos]"
   ]
  },
  {
   "cell_type": "code",
   "execution_count": 16,
   "metadata": {
    "ExecuteTime": {
     "end_time": "2019-08-02T01:34:03.537027Z",
     "start_time": "2019-08-02T01:34:03.523016Z"
    }
   },
   "outputs": [],
   "source": [
    "# 15. How to stack two series vertically and horizontally ?\n",
    "# Difficulty Level: L1\n",
    "ser1 = pd.Series(range(5))\n",
    "ser2 = pd.Series(list('abcde'))\n",
    "\n",
    "df1 = pd.concat([ser1,ser2], axis=0).to_frame()\n",
    "df2 = pd.concat([ser1,ser2], axis=1)"
   ]
  },
  {
   "cell_type": "code",
   "execution_count": 17,
   "metadata": {
    "ExecuteTime": {
     "end_time": "2019-08-02T01:34:03.555914Z",
     "start_time": "2019-08-02T01:34:03.541409Z"
    },
    "lines_to_next_cell": 0
   },
   "outputs": [
    {
     "data": {
      "text/plain": [
       "[0, 4, 5, 8]"
      ]
     },
     "execution_count": 17,
     "metadata": {},
     "output_type": "execute_result"
    }
   ],
   "source": [
    "# 16. How to get the positions of items of series A in another series B?\n",
    "# Difficulty Level: L2\n",
    "ser1 = pd.Series([10, 9, 6, 5, 3, 1, 12, 8, 13])\n",
    "ser2 = pd.Series([1, 3, 10, 13])\n",
    "\n",
    "# note : this solution is vectorlized\n",
    "# faster than list comprehemsion for i in ser2 \n",
    "# when data is big\n",
    "np.argwhere(ser1.isin(ser2)).reshape(-1).tolist()"
   ]
  },
  {
   "cell_type": "code",
   "execution_count": 18,
   "metadata": {
    "ExecuteTime": {
     "end_time": "2019-08-02T01:34:03.576296Z",
     "start_time": "2019-08-02T01:34:03.559659Z"
    }
   },
   "outputs": [
    {
     "name": "stdout",
     "output_type": "stream",
     "text": [
      "0.262621875162554\n",
      "0.262621875162554\n"
     ]
    }
   ],
   "source": [
    "# 17. How to compute the mean squared error on a truth and predicted series?\n",
    "# Difficulty Level: L2\n",
    "truth = pd.Series(range(10))\n",
    "pred = pd.Series(range(10)) + np.random.random(10)\n",
    "\n",
    "print((truth - pred).pow(2).sum() / len(truth))\n",
    "print(np.mean((truth - pred) ** 2))"
   ]
  },
  {
   "cell_type": "code",
   "execution_count": 19,
   "metadata": {
    "ExecuteTime": {
     "end_time": "2019-08-02T01:34:03.592187Z",
     "start_time": "2019-08-02T01:34:03.580377Z"
    }
   },
   "outputs": [
    {
     "data": {
      "text/plain": [
       "0     How\n",
       "1      To\n",
       "2    Kick\n",
       "3    Ass?\n",
       "dtype: object"
      ]
     },
     "execution_count": 19,
     "metadata": {},
     "output_type": "execute_result"
    }
   ],
   "source": [
    "# 18. How to convert the first character of each element in a series to uppercase?\n",
    "# Difficulty Level: L2\n",
    "ser = pd.Series(['how', 'to', 'kick', 'ass?'])\n",
    "\n",
    "# More readable\n",
    "ser.str.capitalize()\n",
    "# Hints\n",
    "# you can use dir() to get all the method inside ser.str\n",
    "# Now you could faster understand how ser.str can do\n",
    "# print(dir(ser.str))"
   ]
  },
  {
   "cell_type": "code",
   "execution_count": 20,
   "metadata": {
    "ExecuteTime": {
     "end_time": "2019-08-02T01:34:03.609041Z",
     "start_time": "2019-08-02T01:34:03.596592Z"
    }
   },
   "outputs": [
    {
     "data": {
      "text/plain": [
       "0    3\n",
       "1    2\n",
       "2    4\n",
       "3    4\n",
       "dtype: int64"
      ]
     },
     "execution_count": 20,
     "metadata": {},
     "output_type": "execute_result"
    }
   ],
   "source": [
    "# 19. How to calculate the number of characters in each word in a series?\n",
    "# Difficulty Level: L2\n",
    "ser = pd.Series(['how', 'to', 'kick', 'ass?'])\n",
    "\n",
    "# vectorlzied\n",
    "\n",
    "ser.str.len()"
   ]
  },
  {
   "cell_type": "code",
   "execution_count": 21,
   "metadata": {
    "ExecuteTime": {
     "end_time": "2019-08-02T01:34:03.627882Z",
     "start_time": "2019-08-02T01:34:03.612836Z"
    },
    "lines_to_next_cell": 0
   },
   "outputs": [
    {
     "name": "stdout",
     "output_type": "stream",
     "text": [
      "[nan, 2.0, 3.0, 4.0, 5.0, 6.0, 6.0, 8.0]\n",
      "[nan, nan, 1.0, 1.0, 1.0, 1.0, 0.0, 2.0]\n",
      "------------------------------------------------------------\n",
      "[nan, 2.0, 3.0, 4.0, 5.0, 6.0, 6.0, 8.0]\n",
      "[nan, nan, 1.0, 1.0, 1.0, 1.0, 0.0, 2.0]\n"
     ]
    }
   ],
   "source": [
    "# 20. How to compute difference of differences between consequtive numbers of a series?\n",
    "# Difficulty Level: L1\n",
    "ser = pd.Series([1, 3, 6, 10, 15, 21, 27, 35])\n",
    "\n",
    "# Solition 1\n",
    "tmp = ser.shift(1)\n",
    "middle_result = ser - tmp\n",
    "print(middle_result.tolist())\n",
    "tmp2 = middle_result.shift(1)\n",
    "print((middle_result - tmp2).tolist())\n",
    "\n",
    "# Solution 2\n",
    "print('-'*60)\n",
    "print(ser.diff().tolist())\n",
    "print(ser.diff().diff().tolist())"
   ]
  },
  {
   "cell_type": "code",
   "execution_count": 26,
   "metadata": {
    "ExecuteTime": {
     "end_time": "2019-08-02T01:37:56.421184Z",
     "start_time": "2019-08-02T01:37:56.410237Z"
    }
   },
   "outputs": [
    {
     "data": {
      "text/plain": [
       "0   2010-01-01 00:00:00\n",
       "1   2011-02-02 00:00:00\n",
       "2   2012-03-03 00:00:00\n",
       "3   2013-04-04 00:00:00\n",
       "4   2014-05-05 00:00:00\n",
       "5   2015-06-06 12:20:00\n",
       "dtype: datetime64[ns]"
      ]
     },
     "execution_count": 26,
     "metadata": {},
     "output_type": "execute_result"
    }
   ],
   "source": [
    "# 21. How to convert a series of date-strings to a timeseries?\n",
    "# Difficiulty Level: L2\n",
    "\n",
    "ser = pd.Series(['01 Jan 2010', '02-02-2011', '20120303', '2013/04/04', '2014-05-05', '2015-06-06T12:20'])\n",
    "\n",
    "pd.to_datetime(ser, infer_datetime_format=True)"
   ]
  },
  {
   "cell_type": "code",
   "execution_count": 75,
   "metadata": {
    "ExecuteTime": {
     "end_time": "2019-08-02T02:00:56.783880Z",
     "start_time": "2019-08-02T02:00:56.765807Z"
    }
   },
   "outputs": [
    {
     "name": "stdout",
     "output_type": "stream",
     "text": [
      " \n",
      "Date : [1, 2, 3, 4, 5, 6]\n",
      "Week number : [53, 5, 9, 14, 19, 23]\n",
      "Day num of year : [1, 33, 63, 94, 125, 157]\n",
      "Day of week : ['Friday', 'Wednesday', 'Saturday', 'Thursday', 'Monday', 'Saturday']\n",
      "\n"
     ]
    }
   ],
   "source": [
    "# 22. How to get the day of month, week number, day of year and day of week from a series of date strings?\n",
    "# Difficiulty Level: L2\n",
    "\n",
    "ser = pd.Series(['01 Jan 2010', '02-02-2011', '20120303', '2013/04/04', '2014-05-05', '2015-06-06T12:20'])\n",
    "\n",
    "tmp = pd.to_datetime(ser)\n",
    "# hint\n",
    "# use dir(tmp.dt) to check it out what could be called\n",
    "# tmp.dt is pandas.core.indexes.accessors.DatetimeProperties object\n",
    "# use dir(tmp[0]) to check it out what could be called \n",
    "# tmp[0] is a single element, <class 'pandas._libs.tslibs.timestamps.Timestamp'>\n",
    "# you might wanna to check\n",
    "# https://pandas.pydata.org/pandas-docs/stable/reference/api/pandas.Timestamp.html\n",
    "# for Timestamp documentation\n",
    "# https://dateutil.readthedocs.io/en/stable/index.html\n",
    "# dateutil, really good when we want to dealing with time\n",
    "\n",
    "\n",
    "Date = tmp.dt.day.tolist()\n",
    "Week_number = tmp.dt.weekofyear.tolist()\n",
    "Day_num_of_year = tmp.dt.dayofyear.tolist()\n",
    "Dayofweek = tmp.dt.weekday_name.tolist()\n",
    "\n",
    "print(f''' \n",
    "Date : {Date}\n",
    "Week number : {Week_number}\n",
    "Day num of year : {Day_num_of_year}\n",
    "Day of week : {Dayofweek}\n",
    "''')\n"
   ]
  },
  {
   "cell_type": "code",
   "execution_count": 76,
   "metadata": {
    "ExecuteTime": {
     "end_time": "2019-08-02T02:02:11.760684Z",
     "start_time": "2019-08-02T02:02:11.746989Z"
    }
   },
   "outputs": [
    {
     "data": {
      "text/plain": [
       "0   2010-01-01\n",
       "1   2011-02-01\n",
       "2   2012-03-01\n",
       "dtype: datetime64[ns]"
      ]
     },
     "execution_count": 76,
     "metadata": {},
     "output_type": "execute_result"
    }
   ],
   "source": [
    "# 23. How to convert year-month string to dates corresponding to the 4th day of the month?\n",
    "# Difficiulty Level: L2\n",
    "ser = pd.Series(['Jan 2010', 'Feb 2011', 'Mar 2012'])\n",
    "\n",
    "# ALTERNATIVE SOLUTION\n",
    "# more readable\n",
    "pd.to_datetime(ser, infer_datetime_format=True)"
   ]
  },
  {
   "cell_type": "code",
   "execution_count": 86,
   "metadata": {
    "ExecuteTime": {
     "end_time": "2019-08-02T02:28:46.347634Z",
     "start_time": "2019-08-02T02:28:46.334015Z"
    }
   },
   "outputs": [
    {
     "data": {
      "text/plain": [
       "0     Apple\n",
       "1    Orange\n",
       "4     Money\n",
       "dtype: object"
      ]
     },
     "execution_count": 86,
     "metadata": {},
     "output_type": "execute_result"
    }
   ],
   "source": [
    "# 24. How to filter words that contain atleast 2 vowels from a series?\n",
    "# Difficiulty Level: L3\n",
    "\n",
    "ser = pd.Series(['Apple', 'Orange', 'Plan', 'Python', 'Money'])\n",
    "\n",
    "# ALTERNATIVE SOLUTION\n",
    "# more readable\n",
    "# vectorlized\n",
    "condition = ser.str.count('[aeiouAEIOU]') >= 2\n",
    "ser[condition]\n",
    "# Hint, you cloud use print(dir(ser.str)) to check it out what could be called\n"
   ]
  },
  {
   "cell_type": "markdown",
   "metadata": {
    "lines_to_next_cell": 2
   },
   "source": [
    "* hint\n",
    "    * <img src = \"./RegExp_snap.png\"></img>\n",
    "    * pandas中的Series.str方法是向量化的，且通常都支援正則表達式(RegExp)\n",
    "    * 正則表達式可以幫助我們處理很多文字問題\n",
    "    * 像圖中的[aeiou]搭配[AEIUO] --> [aeiuoAEIUO]就解決了此題\n",
    "    * 或許你會想看看這份在[菜鳥上的教學](http://www.runoob.com/python/python-reg-expressions.html)"
   ]
  },
  {
   "cell_type": "code",
   "execution_count": 89,
   "metadata": {
    "ExecuteTime": {
     "end_time": "2019-08-02T03:02:54.711504Z",
     "start_time": "2019-08-02T03:02:54.698892Z"
    }
   },
   "outputs": [
    {
     "data": {
      "text/plain": [
       "['rameses@egypt.com', 'matt@t.co', 'narendra@modi.com']"
      ]
     },
     "execution_count": 89,
     "metadata": {},
     "output_type": "execute_result"
    }
   ],
   "source": [
    "# 25. How to filter valid emails from a series?\n",
    "# Difficiulty Level: L3\n",
    "\n",
    "# Extract the valid emails from the series emails. The regex pattern for valid emails is provided as reference.\n",
    "\n",
    "emails = pd.Series(['buying books at amazom.com', 'rameses@egypt.com', 'matt@t.co', 'narendra@modi.com'])\n",
    "pattern ='[A-Za-z0-9._%+-]+@[A-Za-z0-9.-]+\\\\.[A-Za-z]{2,4}'\n",
    "\n",
    "# More readable\n",
    "condition = emails.str.contains(pattern)\n",
    "emails[condition].tolist()"
   ]
  },
  {
   "cell_type": "code",
   "execution_count": 106,
   "metadata": {
    "ExecuteTime": {
     "end_time": "2019-08-02T03:09:07.352009Z",
     "start_time": "2019-08-02T03:09:07.330480Z"
    }
   },
   "outputs": [
    {
     "name": "stdout",
     "output_type": "stream",
     "text": [
      "[1.0, 2.0, 3.0, 4.0, 5.0, 6.0, 7.0, 8.0, 9.0, 10.0]\n",
      "['apple', 'apple', 'banana', 'apple', 'apple', 'apple', 'apple', 'apple', 'banana', 'banana']\n",
      "\n",
      "apple     4.714286\n",
      "banana    7.333333\n",
      "dtype: float64\n",
      "\n",
      "apple     4.714286\n",
      "banana    7.333333\n",
      "Name: weights, dtype: float64\n"
     ]
    }
   ],
   "source": [
    "# 26. How to get the mean of a series grouped by another series?\n",
    "# Difficiulty Level: L2\n",
    "fruit = pd.Series(np.random.choice(['apple', 'banana', 'carrot'], 10))\n",
    "weights = pd.Series(np.linspace(1, 10, 10))\n",
    "print(weights.tolist())\n",
    "print(fruit.tolist())\n",
    "\n",
    "print()\n",
    "print(weights.groupby(fruit).mean())\n",
    "\n",
    "# ALTERNATIVE SULOTION\n",
    "tmp = pd.DataFrame({'fruit':fruit, \n",
    "              'weights':weights}).groupby('fruit').mean()\n",
    "\n",
    "tmp['weights'].index.name = ''\n",
    "print(tmp['weights'])\n",
    "\n",
    "# When to use?\n",
    "# 操作dataframe時我們通常都直接在dataframe裡面groupby, 這題告訴我們\n",
    "# series 可以 groupby 另一條series, 之間用index作為對應, \n",
    "# 這讓feature engineering時能夠有更好的彈性"
   ]
  },
  {
   "cell_type": "code",
   "execution_count": null,
   "metadata": {},
   "outputs": [],
   "source": []
  }
 ],
 "metadata": {
  "jupytext": {
   "encoding": "# -*- coding: utf-8 -*-",
   "formats": "ipynb,py:light"
  },
  "kernelspec": {
   "display_name": "Python 3",
   "language": "python",
   "name": "python3"
  },
  "language_info": {
   "codemirror_mode": {
    "name": "ipython",
    "version": 3
   },
   "file_extension": ".py",
   "mimetype": "text/x-python",
   "name": "python",
   "nbconvert_exporter": "python",
   "pygments_lexer": "ipython3",
   "version": "3.6.5"
  },
  "toc": {
   "base_numbering": 1,
   "nav_menu": {},
   "number_sections": true,
   "sideBar": true,
   "skip_h1_title": false,
   "title_cell": "Table of Contents",
   "title_sidebar": "Contents",
   "toc_cell": false,
   "toc_position": {},
   "toc_section_display": true,
   "toc_window_display": false
  }
 },
 "nbformat": 4,
 "nbformat_minor": 2
}
