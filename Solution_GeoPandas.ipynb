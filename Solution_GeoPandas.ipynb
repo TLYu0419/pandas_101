{
 "cells": [
  {
   "cell_type": "markdown",
   "metadata": {},
   "source": [
    "# Pratical GeoPandas usage\n"
   ]
  },
  {
   "cell_type": "markdown",
   "metadata": {},
   "source": [
    "# Geo-Encoding\n",
    "* coordinate <---> landmark, adress\n",
    "\n",
    "`from geopandas.tools import geocode`\n",
    "\n",
    "> Open\n",
    "\n",
    "*[OpenStreetMap Nominatim geocoder](https://nominatim.openstreetmap.org/)\n",
    "\n",
    "> Payment needed\n",
    "\n",
    "* [google map](https://www.google.com/maps/@25.0539054,121.5754524,13z)\n",
    "* [Bing map](https://www.bing.com/maps)\n",
    "* [Baidu](https://map.baidu.com/)"
   ]
  },
  {
   "cell_type": "markdown",
   "metadata": {},
   "source": [
    "# GeoPandas 101"
   ]
  },
  {
   "cell_type": "code",
   "execution_count": 1,
   "metadata": {
    "ExecuteTime": {
     "end_time": "2019-11-07T13:05:46.414196Z",
     "start_time": "2019-11-07T13:05:44.389533Z"
    }
   },
   "outputs": [],
   "source": [
    "import geopandas as gpd\n",
    "from IPython.core.display import display"
   ]
  },
  {
   "cell_type": "code",
   "execution_count": 4,
   "metadata": {
    "ExecuteTime": {
     "end_time": "2019-11-07T13:07:47.980051Z",
     "start_time": "2019-11-07T13:07:47.973032Z"
    }
   },
   "outputs": [
    {
     "name": "stdout",
     "output_type": "stream",
     "text": [
      "0.6.1\n"
     ]
    }
   ],
   "source": [
    "# 1. How to import geopandas and check the version? \n",
    "print(gpd.__version__)"
   ]
  },
  {
   "cell_type": "code",
   "execution_count": 5,
   "metadata": {
    "ExecuteTime": {
     "end_time": "2019-11-07T13:07:48.707408Z",
     "start_time": "2019-11-07T13:07:48.700597Z"
    }
   },
   "outputs": [
    {
     "name": "stdout",
     "output_type": "stream",
     "text": [
      "['GeoDataFrame', 'GeoSeries', '__builtins__', '__cached__', '__doc__', '__file__', '__loader__', '__name__', '__package__', '__path__', '__spec__', '__version__', '_compat', '_config', '_version', 'array', 'base', 'datasets', 'geodataframe', 'geopandas', 'geoseries', 'gpd', 'io', 'np', 'options', 'overlay', 'pd', 'plotting', 'points_from_xy', 'read_file', 'read_postgis', 'show_versions', 'sjoin', 'tools']\n"
     ]
    }
   ],
   "source": [
    "# 2. What class / method / arrtibutes in geopandas?\n",
    "print(dir(gpd))"
   ]
  },
  {
   "cell_type": "code",
   "execution_count": null,
   "metadata": {},
   "outputs": [],
   "source": [
    "# 3 how to create a GeoDataFrame from FataFrame"
   ]
  },
  {
   "cell_type": "code",
   "execution_count": null,
   "metadata": {},
   "outputs": [],
   "source": [
    "# 4 how to read file with shp file"
   ]
  },
  {
   "cell_type": "code",
   "execution_count": 1,
   "metadata": {
    "ExecuteTime": {
     "end_time": "2019-11-20T13:18:14.446353Z",
     "start_time": "2019-11-20T13:18:14.439071Z"
    }
   },
   "outputs": [],
   "source": [
    "# 5 use geocoder to get coordinate from adress\n",
    "\n",
    "def my_geocoder(row):\n",
    "    try:\n",
    "        point = geocode(row, provider='nominatim').geometry.iloc[0]\n",
    "        return pd.Series({'Latitude': point.y, 'Longitude': point.x, 'geometry': point})\n",
    "    except:\n",
    "        return None"
   ]
  },
  {
   "cell_type": "code",
   "execution_count": null,
   "metadata": {},
   "outputs": [],
   "source": []
  }
 ],
 "metadata": {
  "jupytext": {
   "formats": "ipynb,py:light"
  },
  "kernelspec": {
   "display_name": "Python 3",
   "language": "python",
   "name": "python3"
  },
  "language_info": {
   "codemirror_mode": {
    "name": "ipython",
    "version": 3
   },
   "file_extension": ".py",
   "mimetype": "text/x-python",
   "name": "python",
   "nbconvert_exporter": "python",
   "pygments_lexer": "ipython3",
   "version": "3.6.5"
  },
  "toc": {
   "base_numbering": 1,
   "nav_menu": {},
   "number_sections": true,
   "sideBar": true,
   "skip_h1_title": false,
   "title_cell": "Table of Contents",
   "title_sidebar": "Contents",
   "toc_cell": false,
   "toc_position": {},
   "toc_section_display": true,
   "toc_window_display": false
  }
 },
 "nbformat": 4,
 "nbformat_minor": 2
}
